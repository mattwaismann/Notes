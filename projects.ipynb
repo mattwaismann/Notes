{
 "cells": [
  {
   "cell_type": "code",
   "execution_count": 86,
   "id": "84ee7042",
   "metadata": {},
   "outputs": [],
   "source": [
    "import requests\n",
    "import io\n",
    "vcvsl_query = \"SELECT * FROM cdbodw.o_aws_bills LIMIT 10\" #specify cdbodw schema\n",
    "sql = vcvsl_query\n",
    "url = \"https://5nrgi2wg6c.execute-api.us-east-1.amazonaws.com/test/stage\"\n",
    "p = {'action': 'adhoc', 'sql': sql}\n",
    "r = requests.get(url, params = p)"
   ]
  }
 ],
 "metadata": {
  "kernelspec": {
   "display_name": "Python 3",
   "language": "python",
   "name": "python3"
  },
  "language_info": {
   "codemirror_mode": {
    "name": "ipython",
    "version": 3
   },
   "file_extension": ".py",
   "mimetype": "text/x-python",
   "name": "python",
   "nbconvert_exporter": "python",
   "pygments_lexer": "ipython3",
   "version": "3.6.13"
  }
 },
 "nbformat": 4,
 "nbformat_minor": 5
}
